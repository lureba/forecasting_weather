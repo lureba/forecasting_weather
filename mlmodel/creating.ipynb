{
 "cells": [
  {
   "cell_type": "markdown",
   "id": "ae211715",
   "metadata": {},
   "source": [
    "## Libraries and Functions"
   ]
  },
  {
   "cell_type": "code",
   "execution_count": 27,
   "id": "c3af4d68",
   "metadata": {},
   "outputs": [
    {
     "data": {
      "text/plain": [
       "True"
      ]
     },
     "execution_count": 27,
     "metadata": {},
     "output_type": "execute_result"
    }
   ],
   "source": [
    "## ML\n",
    "from sklearn.preprocessing import StandardScaler\n",
    "from skforecast.recursive import ForecasterRecursive\n",
    "\n",
    "#Ingestion\n",
    "import psycopg2\n",
    "import numpy as np\n",
    "## Data Manipulation\n",
    "from datetime import timedelta\n",
    "import pandas as pd\n",
    "from skforecast.recursive import ForecasterRecursive\n",
    "import xgboost as xg\n",
    "\n",
    "#Os\n",
    "import os\n",
    "from dotenv import load_dotenv\n",
    "load_dotenv(dotenv_path='../.env',override=True)"
   ]
  },
  {
   "cell_type": "code",
   "execution_count": 28,
   "id": "67b03995",
   "metadata": {},
   "outputs": [],
   "source": [
    "def format_date(dt:pd.Series) -> pd.Series:\n",
    "    return dt.date()\n",
    "\n",
    "def fill_scrapping(df:pd.DataFrame,columns:list) -> pd.DataFrame:\n",
    "    for column in columns:\n",
    "        df[column] = df[column].ffill() \n",
    "        df[column] = df[column].bfill() \n",
    "    df[\"category\"] = (df[\"category\"].str.replace(\"\\n\",\"\",regex=False))\n",
    "    return df\n",
    "\n",
    "def formating_df(df: pd.DataFrame) -> pd.DataFrame:\n",
    "    indexs = df.index\n",
    "    siz = len(df.index.names)\n",
    "    new_df = dict()\n",
    "    for name,i in zip(df.index.names,range(0,siz)):\n",
    "        column = indexs.get_level_values(i)\n",
    "        new_df[name] = column\n",
    "    vol = len(df.columns)\n",
    "    for names,i in zip(df.columns,range(vol)):\n",
    "        temp_values = df.iloc[:,i].values\n",
    "        new_df[names] = temp_values\n",
    "    return pd.DataFrame(new_df)\n",
    "\n",
    "def agg_type(aggregation):\n",
    "    if aggregation == \"max\":\n",
    "        return \"temp_max\"\n",
    "    elif aggregation == \"min\":\n",
    "        return \"temp_min\"\n",
    "    else:\n",
    "        return \"actual_temp\"\n",
    "def agg_values(df,aggregation):\n",
    "    agg = agg_type(aggregation)\n",
    "    return df.loc[:,[\"date_scrap\",\"city_name\",\"category\",f\"{agg}\"]]\n",
    "\n",
    "def standard_df(df,aggregation,std_scaler):\n",
    "    df = agg_values(df.copy(),aggregation)\n",
    "    y = df.iloc[:,-1].values.reshape(-1,1)        \n",
    "    df.iloc[:,-1] = std_scaler.fit_transform(y)\n",
    "    df = df.rename(columns={\"date_scrap\":\"dt\"})\n",
    "    df = df.set_index(\"dt\")\n",
    "    return df\n",
    "\n",
    "def city_df(df,city):\n",
    "    df = df.loc[df[\"city_name\"]==city]\n",
    "    df = df.asfreq('D').drop(\"city_name\",axis=1)\n",
    "    return df\n",
    "    \n",
    "def get_categorical(df:pd.DataFrame) -> pd.DataFrame:\n",
    "    x = pd.get_dummies(df,columns=[\"category\"],dtype=int)\n",
    "    return x\n"
   ]
  },
  {
   "cell_type": "code",
   "execution_count": 29,
   "id": "3839c32d",
   "metadata": {},
   "outputs": [],
   "source": [
    "def train_test(df:pd.DataFrame,aggregation):\n",
    "    source_start = pd.to_datetime(\"2025-06-03\")\n",
    "    final_train_source = source_start + timedelta(days=int(len(df)*0.8))\n",
    "    agg = agg_type(aggregation)\n",
    "    y_train = df.loc[:final_train_source,agg]\n",
    "    y_test = df.loc[final_train_source + timedelta(days=1):,agg]\n",
    "    x_train = df.loc[:final_train_source ,df.columns != agg]\n",
    "    x_test =  df.loc[final_train_source + timedelta(days=1):,df.columns != agg]\n",
    "    return y_train,y_test,x_train,x_test"
   ]
  },
  {
   "cell_type": "markdown",
   "id": "98c9861a",
   "metadata": {},
   "source": [
    "## Script"
   ]
  },
  {
   "cell_type": "code",
   "execution_count": 30,
   "id": "7fbbbb40",
   "metadata": {},
   "outputs": [],
   "source": [
    "ip_sql = os.getenv(\"ip_sql_gcp\")\n",
    "user =  os.getenv(\"user_gcp\")\n",
    "password = os.getenv(\"password_gcp\")\n",
    "database = os.getenv(\"database\")\n"
   ]
  },
  {
   "cell_type": "code",
   "execution_count": 31,
   "id": "f1aff07e",
   "metadata": {},
   "outputs": [],
   "source": [
    "con = psycopg2.connect(\"dbname={dbname} user={user} password={password} host={host} port=5432\".format(dbname=database,user=user,password=password,host=ip_sql))"
   ]
  },
  {
   "cell_type": "markdown",
   "id": "9ae97904",
   "metadata": {},
   "source": [
    "## Feature Engineering"
   ]
  },
  {
   "cell_type": "code",
   "execution_count": 32,
   "id": "1dabda57",
   "metadata": {},
   "outputs": [
    {
     "name": "stderr",
     "output_type": "stream",
     "text": [
      "/tmp/ipykernel_126807/3830060771.py:1: UserWarning: pandas only supports SQLAlchemy connectable (engine/connection) or database string URI or sqlite3 DBAPI2 connection. Other DBAPI2 objects are not tested. Please consider using SQLAlchemy.\n",
      "  scrapping_gen = pd.read_sql(\"SELECT * FROM public.scrapping\",con=con).drop(\"url\",axis=1)\n",
      "/tmp/ipykernel_126807/3830060771.py:2: UserWarning: pandas only supports SQLAlchemy connectable (engine/connection) or database string URI or sqlite3 DBAPI2 connection. Other DBAPI2 objects are not tested. Please consider using SQLAlchemy.\n",
      "  weather_df = pd.read_sql(\"SELECT * FROM public.weather\",con=con)\n"
     ]
    }
   ],
   "source": [
    "scrapping_gen = pd.read_sql(\"SELECT * FROM public.scrapping\",con=con).drop(\"url\",axis=1)\n",
    "weather_df = pd.read_sql(\"SELECT * FROM public.weather\",con=con)\n",
    "weather_df[\"date_scrap\"] = weather_df[\"actual_date\"].apply(lambda x: format_date(x))\n",
    "weather_df = weather_df.groupby([\"city_name\",\"date_scrap\"]).agg({\"actual_temp\":\"mean\",\"temp_min\":\"min\",\"temp_max\":\"max\"})\n",
    "weather_df = formating_df(weather_df)\n",
    "\n",
    "weather_df = weather_df.merge(\n",
    "    scrapping_gen,\n",
    "    how=\"left\",\n",
    "    on=\"date_scrap\"\n",
    ")\n",
    "\n",
    "daily_weather = fill_scrapping(weather_df,[\"category\",\"text\"])"
   ]
  },
  {
   "cell_type": "markdown",
   "id": "70551451",
   "metadata": {},
   "source": [
    "### Testing"
   ]
  },
  {
   "cell_type": "code",
   "execution_count": 34,
   "id": "3ee674e1",
   "metadata": {},
   "outputs": [],
   "source": [
    "scaler_actualtemp = StandardScaler()\n",
    "daily_weather_actualtemp = standard_df(daily_weather,\"mean\",scaler_actualtemp)\n",
    "daily_weather_actualtemp = get_categorical(city_df(daily_weather_actualtemp,\"São José dos Campos\"))\n",
    "\n",
    "scaler_mintemp = StandardScaler()\n",
    "\n",
    "daily_weather_min = standard_df(daily_weather,\"min\",scaler_mintemp)\n",
    "daily_weather_min = get_categorical(city_df(daily_weather_min,\"São José dos Campos\"))\n",
    "\n",
    "scaler_maxtemp = StandardScaler()\n",
    "\n",
    "daily_weather_max = standard_df(daily_weather,\"max\",scaler_maxtemp)\n",
    "daily_weather_max = get_categorical(city_df(daily_weather_max,\"São José dos Campos\"))\n",
    "\n",
    "\n"
   ]
  },
  {
   "cell_type": "markdown",
   "id": "4eb55d3f",
   "metadata": {},
   "source": [
    "## ML"
   ]
  },
  {
   "cell_type": "markdown",
   "id": "8eda38a9",
   "metadata": {},
   "source": [
    "### Hyperparameter Tuning(TempMax)"
   ]
  },
  {
   "cell_type": "code",
   "execution_count": 35,
   "id": "a6c1540d",
   "metadata": {},
   "outputs": [],
   "source": [
    "from skforecast.model_selection import grid_search_forecaster\n",
    "from skforecast.model_selection import TimeSeriesFold \n"
   ]
  },
  {
   "cell_type": "code",
   "execution_count": 36,
   "id": "779f0827",
   "metadata": {},
   "outputs": [],
   "source": [
    "forecaster = ForecasterRecursive(\n",
    "    regressor=xg.XGBRegressor(random_state=123),\n",
    "    lags=3 \n",
    ")\n",
    "\n",
    "cv = TimeSeriesFold(\n",
    "         steps              = 2,\n",
    "         initial_train_size = 24,\n",
    "         refit              = False\n",
    "     )\n",
    "\n",
    "lags_grid = [1,2,3,4,5,6,7,10]\n",
    "\n",
    "\n",
    "param_grid = {\n",
    "    'n_estimators': [2,5,10,20,50,100,125],\n",
    "    'max_depth': [1,2,5,10, 15],\n",
    "    'reg_lambda': [0.1, 1.0],\n",
    "    'reg_alpha':[0.1,1.0]\n",
    "}"
   ]
  },
  {
   "cell_type": "code",
   "execution_count": 37,
   "id": "7aa085bf",
   "metadata": {},
   "outputs": [
    {
     "data": {
      "application/vnd.jupyter.widget-view+json": {
       "model_id": "dfcb8af311324c8a8f6863fe19ebe78f",
       "version_major": 2,
       "version_minor": 0
      },
      "text/plain": [
       "lags grid:   0%|          | 0/8 [00:00<?, ?it/s]"
      ]
     },
     "metadata": {},
     "output_type": "display_data"
    },
    {
     "data": {
      "application/vnd.jupyter.widget-view+json": {
       "model_id": "6b18dc03c4f7491ca57f9cd9ef70dccd",
       "version_major": 2,
       "version_minor": 0
      },
      "text/plain": [
       "params grid:   0%|          | 0/140 [00:00<?, ?it/s]"
      ]
     },
     "metadata": {},
     "output_type": "display_data"
    }
   ],
   "source": [
    "results = grid_search_forecaster(\n",
    "              forecaster    = forecaster,\n",
    "              y             = daily_weather_max[\"temp_max\"],\n",
    "              param_grid    = param_grid,\n",
    "              lags_grid     = lags_grid,\n",
    "              exog=daily_weather_max.loc[:,(daily_weather_max.columns != \"temp_max\")],\n",
    "              cv            = cv,\n",
    "              metric        = 'mean_squared_error',\n",
    "              return_best   = False,\n",
    "              n_jobs        = 'auto',\n",
    "              verbose       = False,\n",
    "              show_progress = True\n",
    "          )"
   ]
  },
  {
   "cell_type": "code",
   "execution_count": 38,
   "id": "cc2205fd",
   "metadata": {},
   "outputs": [
    {
     "data": {
      "text/html": [
       "<div>\n",
       "<style scoped>\n",
       "    .dataframe tbody tr th:only-of-type {\n",
       "        vertical-align: middle;\n",
       "    }\n",
       "\n",
       "    .dataframe tbody tr th {\n",
       "        vertical-align: top;\n",
       "    }\n",
       "\n",
       "    .dataframe thead th {\n",
       "        text-align: right;\n",
       "    }\n",
       "</style>\n",
       "<table border=\"1\" class=\"dataframe\">\n",
       "  <thead>\n",
       "    <tr style=\"text-align: right;\">\n",
       "      <th></th>\n",
       "      <th>lags</th>\n",
       "      <th>lags_label</th>\n",
       "      <th>params</th>\n",
       "      <th>mean_squared_error</th>\n",
       "      <th>max_depth</th>\n",
       "      <th>n_estimators</th>\n",
       "      <th>reg_alpha</th>\n",
       "      <th>reg_lambda</th>\n",
       "    </tr>\n",
       "  </thead>\n",
       "  <tbody>\n",
       "    <tr>\n",
       "      <th>0</th>\n",
       "      <td>[1, 2]</td>\n",
       "      <td>[1, 2]</td>\n",
       "      <td>{'max_depth': 5, 'n_estimators': 10, 'reg_alph...</td>\n",
       "      <td>0.434963</td>\n",
       "      <td>5.0</td>\n",
       "      <td>10.0</td>\n",
       "      <td>0.1</td>\n",
       "      <td>0.1</td>\n",
       "    </tr>\n",
       "    <tr>\n",
       "      <th>1</th>\n",
       "      <td>[1, 2, 3, 4]</td>\n",
       "      <td>[1, 2, 3, 4]</td>\n",
       "      <td>{'max_depth': 1, 'n_estimators': 125, 'reg_alp...</td>\n",
       "      <td>0.437650</td>\n",
       "      <td>1.0</td>\n",
       "      <td>125.0</td>\n",
       "      <td>0.1</td>\n",
       "      <td>0.1</td>\n",
       "    </tr>\n",
       "    <tr>\n",
       "      <th>2</th>\n",
       "      <td>[1, 2]</td>\n",
       "      <td>[1, 2]</td>\n",
       "      <td>{'max_depth': 10, 'n_estimators': 10, 'reg_alp...</td>\n",
       "      <td>0.440234</td>\n",
       "      <td>10.0</td>\n",
       "      <td>10.0</td>\n",
       "      <td>0.1</td>\n",
       "      <td>0.1</td>\n",
       "    </tr>\n",
       "    <tr>\n",
       "      <th>3</th>\n",
       "      <td>[1, 2]</td>\n",
       "      <td>[1, 2]</td>\n",
       "      <td>{'max_depth': 15, 'n_estimators': 10, 'reg_alp...</td>\n",
       "      <td>0.440234</td>\n",
       "      <td>15.0</td>\n",
       "      <td>10.0</td>\n",
       "      <td>0.1</td>\n",
       "      <td>0.1</td>\n",
       "    </tr>\n",
       "    <tr>\n",
       "      <th>4</th>\n",
       "      <td>[1, 2]</td>\n",
       "      <td>[1, 2]</td>\n",
       "      <td>{'max_depth': 15, 'n_estimators': 20, 'reg_alp...</td>\n",
       "      <td>0.441840</td>\n",
       "      <td>15.0</td>\n",
       "      <td>20.0</td>\n",
       "      <td>0.1</td>\n",
       "      <td>0.1</td>\n",
       "    </tr>\n",
       "    <tr>\n",
       "      <th>...</th>\n",
       "      <td>...</td>\n",
       "      <td>...</td>\n",
       "      <td>...</td>\n",
       "      <td>...</td>\n",
       "      <td>...</td>\n",
       "      <td>...</td>\n",
       "      <td>...</td>\n",
       "      <td>...</td>\n",
       "    </tr>\n",
       "    <tr>\n",
       "      <th>1115</th>\n",
       "      <td>[1, 2, 3, 4, 5, 6, 7, 8, 9, 10]</td>\n",
       "      <td>[1, 2, 3, 4, 5, 6, 7, 8, 9, 10]</td>\n",
       "      <td>{'max_depth': 10, 'n_estimators': 100, 'reg_al...</td>\n",
       "      <td>2.805646</td>\n",
       "      <td>10.0</td>\n",
       "      <td>100.0</td>\n",
       "      <td>0.1</td>\n",
       "      <td>0.1</td>\n",
       "    </tr>\n",
       "    <tr>\n",
       "      <th>1116</th>\n",
       "      <td>[1, 2, 3, 4, 5, 6, 7, 8, 9, 10]</td>\n",
       "      <td>[1, 2, 3, 4, 5, 6, 7, 8, 9, 10]</td>\n",
       "      <td>{'max_depth': 10, 'n_estimators': 50, 'reg_alp...</td>\n",
       "      <td>2.805646</td>\n",
       "      <td>10.0</td>\n",
       "      <td>50.0</td>\n",
       "      <td>0.1</td>\n",
       "      <td>0.1</td>\n",
       "    </tr>\n",
       "    <tr>\n",
       "      <th>1117</th>\n",
       "      <td>[1, 2, 3, 4, 5, 6, 7, 8, 9, 10]</td>\n",
       "      <td>[1, 2, 3, 4, 5, 6, 7, 8, 9, 10]</td>\n",
       "      <td>{'max_depth': 5, 'n_estimators': 125, 'reg_alp...</td>\n",
       "      <td>2.805646</td>\n",
       "      <td>5.0</td>\n",
       "      <td>125.0</td>\n",
       "      <td>0.1</td>\n",
       "      <td>0.1</td>\n",
       "    </tr>\n",
       "    <tr>\n",
       "      <th>1118</th>\n",
       "      <td>[1, 2, 3, 4, 5, 6, 7, 8, 9, 10]</td>\n",
       "      <td>[1, 2, 3, 4, 5, 6, 7, 8, 9, 10]</td>\n",
       "      <td>{'max_depth': 5, 'n_estimators': 100, 'reg_alp...</td>\n",
       "      <td>2.805646</td>\n",
       "      <td>5.0</td>\n",
       "      <td>100.0</td>\n",
       "      <td>0.1</td>\n",
       "      <td>0.1</td>\n",
       "    </tr>\n",
       "    <tr>\n",
       "      <th>1119</th>\n",
       "      <td>[1, 2, 3, 4, 5, 6, 7, 8, 9, 10]</td>\n",
       "      <td>[1, 2, 3, 4, 5, 6, 7, 8, 9, 10]</td>\n",
       "      <td>{'max_depth': 10, 'n_estimators': 125, 'reg_al...</td>\n",
       "      <td>2.805646</td>\n",
       "      <td>10.0</td>\n",
       "      <td>125.0</td>\n",
       "      <td>0.1</td>\n",
       "      <td>0.1</td>\n",
       "    </tr>\n",
       "  </tbody>\n",
       "</table>\n",
       "<p>1120 rows × 8 columns</p>\n",
       "</div>"
      ],
      "text/plain": [
       "                                 lags                       lags_label  \\\n",
       "0                              [1, 2]                           [1, 2]   \n",
       "1                        [1, 2, 3, 4]                     [1, 2, 3, 4]   \n",
       "2                              [1, 2]                           [1, 2]   \n",
       "3                              [1, 2]                           [1, 2]   \n",
       "4                              [1, 2]                           [1, 2]   \n",
       "...                               ...                              ...   \n",
       "1115  [1, 2, 3, 4, 5, 6, 7, 8, 9, 10]  [1, 2, 3, 4, 5, 6, 7, 8, 9, 10]   \n",
       "1116  [1, 2, 3, 4, 5, 6, 7, 8, 9, 10]  [1, 2, 3, 4, 5, 6, 7, 8, 9, 10]   \n",
       "1117  [1, 2, 3, 4, 5, 6, 7, 8, 9, 10]  [1, 2, 3, 4, 5, 6, 7, 8, 9, 10]   \n",
       "1118  [1, 2, 3, 4, 5, 6, 7, 8, 9, 10]  [1, 2, 3, 4, 5, 6, 7, 8, 9, 10]   \n",
       "1119  [1, 2, 3, 4, 5, 6, 7, 8, 9, 10]  [1, 2, 3, 4, 5, 6, 7, 8, 9, 10]   \n",
       "\n",
       "                                                 params  mean_squared_error  \\\n",
       "0     {'max_depth': 5, 'n_estimators': 10, 'reg_alph...            0.434963   \n",
       "1     {'max_depth': 1, 'n_estimators': 125, 'reg_alp...            0.437650   \n",
       "2     {'max_depth': 10, 'n_estimators': 10, 'reg_alp...            0.440234   \n",
       "3     {'max_depth': 15, 'n_estimators': 10, 'reg_alp...            0.440234   \n",
       "4     {'max_depth': 15, 'n_estimators': 20, 'reg_alp...            0.441840   \n",
       "...                                                 ...                 ...   \n",
       "1115  {'max_depth': 10, 'n_estimators': 100, 'reg_al...            2.805646   \n",
       "1116  {'max_depth': 10, 'n_estimators': 50, 'reg_alp...            2.805646   \n",
       "1117  {'max_depth': 5, 'n_estimators': 125, 'reg_alp...            2.805646   \n",
       "1118  {'max_depth': 5, 'n_estimators': 100, 'reg_alp...            2.805646   \n",
       "1119  {'max_depth': 10, 'n_estimators': 125, 'reg_al...            2.805646   \n",
       "\n",
       "      max_depth  n_estimators  reg_alpha  reg_lambda  \n",
       "0           5.0          10.0        0.1         0.1  \n",
       "1           1.0         125.0        0.1         0.1  \n",
       "2          10.0          10.0        0.1         0.1  \n",
       "3          15.0          10.0        0.1         0.1  \n",
       "4          15.0          20.0        0.1         0.1  \n",
       "...         ...           ...        ...         ...  \n",
       "1115       10.0         100.0        0.1         0.1  \n",
       "1116       10.0          50.0        0.1         0.1  \n",
       "1117        5.0         125.0        0.1         0.1  \n",
       "1118        5.0         100.0        0.1         0.1  \n",
       "1119       10.0         125.0        0.1         0.1  \n",
       "\n",
       "[1120 rows x 8 columns]"
      ]
     },
     "execution_count": 38,
     "metadata": {},
     "output_type": "execute_result"
    }
   ],
   "source": [
    "results"
   ]
  },
  {
   "cell_type": "markdown",
   "id": "28378b38",
   "metadata": {},
   "source": [
    "### Final Model (TempMax)"
   ]
  },
  {
   "cell_type": "code",
   "execution_count": 39,
   "id": "35aa7859",
   "metadata": {},
   "outputs": [],
   "source": [
    "y_train,y_test,x_train,x_test = train_test(daily_weather_max,\"max\")\n",
    "\n",
    "forecaster = ForecasterRecursive(\n",
    "    regressor= xg.XGBRegressor(max_depth=1,n_estimators=125,reg_alpha=0.1,reg_lambda=0.1),\n",
    "    lags=4,\n",
    ")\n",
    "\n",
    "forecaster.fit(\n",
    "    y = y_train,\n",
    "    exog = x_train\n",
    ")\n",
    "\n",
    "predictions = forecaster.predict(\n",
    "    steps=5,\n",
    "    exog = x_test\n",
    ")"
   ]
  },
  {
   "cell_type": "code",
   "execution_count": 40,
   "id": "318540ed",
   "metadata": {},
   "outputs": [
    {
     "data": {
      "text/plain": [
       "array([[25.27],\n",
       "       [26.27],\n",
       "       [29.27],\n",
       "       [25.27],\n",
       "       [19.27]])"
      ]
     },
     "execution_count": 40,
     "metadata": {},
     "output_type": "execute_result"
    }
   ],
   "source": [
    "scaler_maxtemp.inverse_transform(y_test.values.reshape(-1,1))"
   ]
  },
  {
   "cell_type": "code",
   "execution_count": 41,
   "id": "37d39f9e",
   "metadata": {},
   "outputs": [
    {
     "data": {
      "text/plain": [
       "array([[23.57350313],\n",
       "       [26.09026361],\n",
       "       [25.86459158],\n",
       "       [25.6746239 ],\n",
       "       [25.72423247]])"
      ]
     },
     "execution_count": 41,
     "metadata": {},
     "output_type": "execute_result"
    }
   ],
   "source": [
    "scaler_maxtemp.inverse_transform(predictions.values.reshape(-1,1))"
   ]
  },
  {
   "cell_type": "markdown",
   "id": "e98bd08b",
   "metadata": {},
   "source": [
    "### HyperParameter Tunning (TempMin)"
   ]
  },
  {
   "cell_type": "code",
   "execution_count": 42,
   "id": "08e8a696",
   "metadata": {},
   "outputs": [],
   "source": [
    "forecaster = ForecasterRecursive(\n",
    "    regressor=xg.XGBRegressor(random_state=123),\n",
    "    lags=3 \n",
    ")\n",
    "\n",
    "cv = TimeSeriesFold(\n",
    "         steps              = 2,\n",
    "         initial_train_size = 24,\n",
    "         refit              = False\n",
    "     )\n",
    "\n",
    "lags_grid = [1,2,3,4,5,6,7,10]\n",
    "\n",
    "\n",
    "param_grid = {\n",
    "    'n_estimators': [2,5,10,20,50,100,125],\n",
    "    'max_depth': [1,2,5,10, 15],\n",
    "    'reg_lambda': [0.1, 1.0],\n",
    "    'reg_alpha':[0.1,1.0]\n",
    "}"
   ]
  },
  {
   "cell_type": "code",
   "execution_count": 43,
   "id": "ef0ab7ca",
   "metadata": {},
   "outputs": [
    {
     "data": {
      "application/vnd.jupyter.widget-view+json": {
       "model_id": "b7a43dcb68a94f2ab76ae245d8d0cb86",
       "version_major": 2,
       "version_minor": 0
      },
      "text/plain": [
       "lags grid:   0%|          | 0/8 [00:00<?, ?it/s]"
      ]
     },
     "metadata": {},
     "output_type": "display_data"
    },
    {
     "data": {
      "application/vnd.jupyter.widget-view+json": {
       "model_id": "9ba64dd070f044319c9476165737fd9e",
       "version_major": 2,
       "version_minor": 0
      },
      "text/plain": [
       "params grid:   0%|          | 0/140 [00:00<?, ?it/s]"
      ]
     },
     "metadata": {},
     "output_type": "display_data"
    }
   ],
   "source": [
    "results = grid_search_forecaster(\n",
    "              forecaster    = forecaster,\n",
    "              y             = daily_weather_min[\"temp_min\"],\n",
    "              param_grid    = param_grid,\n",
    "              lags_grid     = lags_grid,\n",
    "              exog=daily_weather_min.loc[:,(daily_weather_max.columns != \"temp_min\")],\n",
    "              cv            = cv,\n",
    "              metric        = 'mean_squared_error',\n",
    "              return_best   = False,\n",
    "              n_jobs        = 'auto',\n",
    "              verbose       = False,\n",
    "              show_progress = True\n",
    "          )"
   ]
  },
  {
   "cell_type": "code",
   "execution_count": 44,
   "id": "cbb54374",
   "metadata": {},
   "outputs": [
    {
     "data": {
      "text/html": [
       "<div>\n",
       "<style scoped>\n",
       "    .dataframe tbody tr th:only-of-type {\n",
       "        vertical-align: middle;\n",
       "    }\n",
       "\n",
       "    .dataframe tbody tr th {\n",
       "        vertical-align: top;\n",
       "    }\n",
       "\n",
       "    .dataframe thead th {\n",
       "        text-align: right;\n",
       "    }\n",
       "</style>\n",
       "<table border=\"1\" class=\"dataframe\">\n",
       "  <thead>\n",
       "    <tr style=\"text-align: right;\">\n",
       "      <th></th>\n",
       "      <th>lags</th>\n",
       "      <th>lags_label</th>\n",
       "      <th>params</th>\n",
       "      <th>mean_squared_error</th>\n",
       "      <th>max_depth</th>\n",
       "      <th>n_estimators</th>\n",
       "      <th>reg_alpha</th>\n",
       "      <th>reg_lambda</th>\n",
       "    </tr>\n",
       "  </thead>\n",
       "  <tbody>\n",
       "    <tr>\n",
       "      <th>0</th>\n",
       "      <td>[1]</td>\n",
       "      <td>[1]</td>\n",
       "      <td>{'max_depth': 2, 'n_estimators': 100, 'reg_alp...</td>\n",
       "      <td>0.013809</td>\n",
       "      <td>2.0</td>\n",
       "      <td>100.0</td>\n",
       "      <td>0.1</td>\n",
       "      <td>0.1</td>\n",
       "    </tr>\n",
       "    <tr>\n",
       "      <th>1</th>\n",
       "      <td>[1]</td>\n",
       "      <td>[1]</td>\n",
       "      <td>{'max_depth': 2, 'n_estimators': 125, 'reg_alp...</td>\n",
       "      <td>0.013809</td>\n",
       "      <td>2.0</td>\n",
       "      <td>125.0</td>\n",
       "      <td>0.1</td>\n",
       "      <td>0.1</td>\n",
       "    </tr>\n",
       "    <tr>\n",
       "      <th>2</th>\n",
       "      <td>[1]</td>\n",
       "      <td>[1]</td>\n",
       "      <td>{'max_depth': 2, 'n_estimators': 50, 'reg_alph...</td>\n",
       "      <td>0.013809</td>\n",
       "      <td>2.0</td>\n",
       "      <td>50.0</td>\n",
       "      <td>0.1</td>\n",
       "      <td>0.1</td>\n",
       "    </tr>\n",
       "    <tr>\n",
       "      <th>3</th>\n",
       "      <td>[1]</td>\n",
       "      <td>[1]</td>\n",
       "      <td>{'max_depth': 2, 'n_estimators': 125, 'reg_alp...</td>\n",
       "      <td>0.013920</td>\n",
       "      <td>2.0</td>\n",
       "      <td>125.0</td>\n",
       "      <td>0.1</td>\n",
       "      <td>1.0</td>\n",
       "    </tr>\n",
       "    <tr>\n",
       "      <th>4</th>\n",
       "      <td>[1]</td>\n",
       "      <td>[1]</td>\n",
       "      <td>{'max_depth': 2, 'n_estimators': 100, 'reg_alp...</td>\n",
       "      <td>0.013920</td>\n",
       "      <td>2.0</td>\n",
       "      <td>100.0</td>\n",
       "      <td>0.1</td>\n",
       "      <td>1.0</td>\n",
       "    </tr>\n",
       "    <tr>\n",
       "      <th>...</th>\n",
       "      <td>...</td>\n",
       "      <td>...</td>\n",
       "      <td>...</td>\n",
       "      <td>...</td>\n",
       "      <td>...</td>\n",
       "      <td>...</td>\n",
       "      <td>...</td>\n",
       "      <td>...</td>\n",
       "    </tr>\n",
       "    <tr>\n",
       "      <th>1115</th>\n",
       "      <td>[1, 2, 3, 4, 5, 6, 7, 8, 9, 10]</td>\n",
       "      <td>[1, 2, 3, 4, 5, 6, 7, 8, 9, 10]</td>\n",
       "      <td>{'max_depth': 1, 'n_estimators': 2, 'reg_alpha...</td>\n",
       "      <td>0.935559</td>\n",
       "      <td>1.0</td>\n",
       "      <td>2.0</td>\n",
       "      <td>1.0</td>\n",
       "      <td>1.0</td>\n",
       "    </tr>\n",
       "    <tr>\n",
       "      <th>1116</th>\n",
       "      <td>[1, 2, 3, 4, 5, 6, 7, 8, 9, 10]</td>\n",
       "      <td>[1, 2, 3, 4, 5, 6, 7, 8, 9, 10]</td>\n",
       "      <td>{'max_depth': 2, 'n_estimators': 2, 'reg_alpha...</td>\n",
       "      <td>0.986140</td>\n",
       "      <td>2.0</td>\n",
       "      <td>2.0</td>\n",
       "      <td>0.1</td>\n",
       "      <td>1.0</td>\n",
       "    </tr>\n",
       "    <tr>\n",
       "      <th>1117</th>\n",
       "      <td>[1, 2, 3, 4, 5, 6, 7, 8, 9, 10]</td>\n",
       "      <td>[1, 2, 3, 4, 5, 6, 7, 8, 9, 10]</td>\n",
       "      <td>{'max_depth': 10, 'n_estimators': 2, 'reg_alph...</td>\n",
       "      <td>1.052830</td>\n",
       "      <td>10.0</td>\n",
       "      <td>2.0</td>\n",
       "      <td>0.1</td>\n",
       "      <td>1.0</td>\n",
       "    </tr>\n",
       "    <tr>\n",
       "      <th>1118</th>\n",
       "      <td>[1, 2, 3, 4, 5, 6, 7, 8, 9, 10]</td>\n",
       "      <td>[1, 2, 3, 4, 5, 6, 7, 8, 9, 10]</td>\n",
       "      <td>{'max_depth': 5, 'n_estimators': 2, 'reg_alpha...</td>\n",
       "      <td>1.052830</td>\n",
       "      <td>5.0</td>\n",
       "      <td>2.0</td>\n",
       "      <td>0.1</td>\n",
       "      <td>1.0</td>\n",
       "    </tr>\n",
       "    <tr>\n",
       "      <th>1119</th>\n",
       "      <td>[1, 2, 3, 4, 5, 6, 7, 8, 9, 10]</td>\n",
       "      <td>[1, 2, 3, 4, 5, 6, 7, 8, 9, 10]</td>\n",
       "      <td>{'max_depth': 15, 'n_estimators': 2, 'reg_alph...</td>\n",
       "      <td>1.052830</td>\n",
       "      <td>15.0</td>\n",
       "      <td>2.0</td>\n",
       "      <td>0.1</td>\n",
       "      <td>1.0</td>\n",
       "    </tr>\n",
       "  </tbody>\n",
       "</table>\n",
       "<p>1120 rows × 8 columns</p>\n",
       "</div>"
      ],
      "text/plain": [
       "                                 lags                       lags_label  \\\n",
       "0                                 [1]                              [1]   \n",
       "1                                 [1]                              [1]   \n",
       "2                                 [1]                              [1]   \n",
       "3                                 [1]                              [1]   \n",
       "4                                 [1]                              [1]   \n",
       "...                               ...                              ...   \n",
       "1115  [1, 2, 3, 4, 5, 6, 7, 8, 9, 10]  [1, 2, 3, 4, 5, 6, 7, 8, 9, 10]   \n",
       "1116  [1, 2, 3, 4, 5, 6, 7, 8, 9, 10]  [1, 2, 3, 4, 5, 6, 7, 8, 9, 10]   \n",
       "1117  [1, 2, 3, 4, 5, 6, 7, 8, 9, 10]  [1, 2, 3, 4, 5, 6, 7, 8, 9, 10]   \n",
       "1118  [1, 2, 3, 4, 5, 6, 7, 8, 9, 10]  [1, 2, 3, 4, 5, 6, 7, 8, 9, 10]   \n",
       "1119  [1, 2, 3, 4, 5, 6, 7, 8, 9, 10]  [1, 2, 3, 4, 5, 6, 7, 8, 9, 10]   \n",
       "\n",
       "                                                 params  mean_squared_error  \\\n",
       "0     {'max_depth': 2, 'n_estimators': 100, 'reg_alp...            0.013809   \n",
       "1     {'max_depth': 2, 'n_estimators': 125, 'reg_alp...            0.013809   \n",
       "2     {'max_depth': 2, 'n_estimators': 50, 'reg_alph...            0.013809   \n",
       "3     {'max_depth': 2, 'n_estimators': 125, 'reg_alp...            0.013920   \n",
       "4     {'max_depth': 2, 'n_estimators': 100, 'reg_alp...            0.013920   \n",
       "...                                                 ...                 ...   \n",
       "1115  {'max_depth': 1, 'n_estimators': 2, 'reg_alpha...            0.935559   \n",
       "1116  {'max_depth': 2, 'n_estimators': 2, 'reg_alpha...            0.986140   \n",
       "1117  {'max_depth': 10, 'n_estimators': 2, 'reg_alph...            1.052830   \n",
       "1118  {'max_depth': 5, 'n_estimators': 2, 'reg_alpha...            1.052830   \n",
       "1119  {'max_depth': 15, 'n_estimators': 2, 'reg_alph...            1.052830   \n",
       "\n",
       "      max_depth  n_estimators  reg_alpha  reg_lambda  \n",
       "0           2.0         100.0        0.1         0.1  \n",
       "1           2.0         125.0        0.1         0.1  \n",
       "2           2.0          50.0        0.1         0.1  \n",
       "3           2.0         125.0        0.1         1.0  \n",
       "4           2.0         100.0        0.1         1.0  \n",
       "...         ...           ...        ...         ...  \n",
       "1115        1.0           2.0        1.0         1.0  \n",
       "1116        2.0           2.0        0.1         1.0  \n",
       "1117       10.0           2.0        0.1         1.0  \n",
       "1118        5.0           2.0        0.1         1.0  \n",
       "1119       15.0           2.0        0.1         1.0  \n",
       "\n",
       "[1120 rows x 8 columns]"
      ]
     },
     "execution_count": 44,
     "metadata": {},
     "output_type": "execute_result"
    }
   ],
   "source": [
    "results"
   ]
  },
  {
   "cell_type": "markdown",
   "id": "a9be3f1e",
   "metadata": {},
   "source": [
    "### FinalModel TempMin"
   ]
  },
  {
   "cell_type": "code",
   "execution_count": 45,
   "id": "48ac8eee",
   "metadata": {},
   "outputs": [],
   "source": [
    "y_train,y_test,x_train,x_test = train_test(daily_weather_min,\"min\")\n",
    "\n",
    "forecaster = ForecasterRecursive(\n",
    "    regressor= xg.XGBRegressor(max_depth=2,n_estimators=100,reg_alpha=0.1,reg_lambda=0.1),\n",
    "    lags=4,\n",
    ")\n",
    "\n",
    "forecaster.fit(\n",
    "    y = y_train,\n",
    "    exog = x_train\n",
    ")\n",
    "\n",
    "predictions = forecaster.predict(\n",
    "    steps=5,\n",
    "    exog = x_test\n",
    ")"
   ]
  },
  {
   "cell_type": "code",
   "execution_count": 46,
   "id": "73803171",
   "metadata": {},
   "outputs": [
    {
     "data": {
      "text/plain": [
       "array([[15.27],\n",
       "       [17.27],\n",
       "       [14.27],\n",
       "       [14.27],\n",
       "       [16.27]])"
      ]
     },
     "execution_count": 46,
     "metadata": {},
     "output_type": "execute_result"
    }
   ],
   "source": [
    "scaler_mintemp.inverse_transform(y_test.values.reshape(-1,1))"
   ]
  },
  {
   "cell_type": "code",
   "execution_count": 47,
   "id": "5fb65d37",
   "metadata": {},
   "outputs": [
    {
     "data": {
      "text/plain": [
       "array([[13.64246481],\n",
       "       [11.08122338],\n",
       "       [ 9.43691786],\n",
       "       [ 9.99475953],\n",
       "       [10.87907393]])"
      ]
     },
     "execution_count": 47,
     "metadata": {},
     "output_type": "execute_result"
    }
   ],
   "source": [
    "scaler_mintemp.inverse_transform(predictions.values.reshape(-1,1))"
   ]
  },
  {
   "cell_type": "markdown",
   "id": "a9adb6c3",
   "metadata": {},
   "source": [
    "### HyperParameter Tunning (ActualTemp)"
   ]
  },
  {
   "cell_type": "code",
   "execution_count": 48,
   "id": "4238f318",
   "metadata": {},
   "outputs": [],
   "source": [
    "forecaster = ForecasterRecursive(\n",
    "    regressor=xg.XGBRegressor(random_state=123),\n",
    "    lags=3 \n",
    ")\n",
    "\n",
    "cv = TimeSeriesFold(\n",
    "         steps              = 2,\n",
    "         initial_train_size = 24,\n",
    "         refit              = False\n",
    "     )\n",
    "\n",
    "lags_grid = [1,2,3,4,5,6,7,10]\n",
    "\n",
    "\n",
    "param_grid = {\n",
    "    'n_estimators': [2,5,10,20,50,100,125],\n",
    "    'max_depth': [1,2,5,10, 15],\n",
    "    'reg_lambda': [0.1, 1.0],\n",
    "    'reg_alpha':[0.1,1.0]\n",
    "}"
   ]
  },
  {
   "cell_type": "code",
   "execution_count": 49,
   "id": "e161d907",
   "metadata": {},
   "outputs": [
    {
     "data": {
      "application/vnd.jupyter.widget-view+json": {
       "model_id": "d05dafa5bcad4a7ba8420f3c66410006",
       "version_major": 2,
       "version_minor": 0
      },
      "text/plain": [
       "lags grid:   0%|          | 0/8 [00:00<?, ?it/s]"
      ]
     },
     "metadata": {},
     "output_type": "display_data"
    },
    {
     "data": {
      "application/vnd.jupyter.widget-view+json": {
       "model_id": "8b1bc827f06c4863bf5bf89832d5dee4",
       "version_major": 2,
       "version_minor": 0
      },
      "text/plain": [
       "params grid:   0%|          | 0/140 [00:00<?, ?it/s]"
      ]
     },
     "metadata": {},
     "output_type": "display_data"
    }
   ],
   "source": [
    "results = grid_search_forecaster(\n",
    "              forecaster    = forecaster,\n",
    "              y             = daily_weather_actualtemp[\"actual_temp\"],\n",
    "              param_grid    = param_grid,\n",
    "              lags_grid     = lags_grid,\n",
    "              exog=daily_weather_min.loc[:,(daily_weather_actualtemp.columns != \"actual_temp\")],\n",
    "              cv            = cv,\n",
    "              metric        = 'mean_squared_error',\n",
    "              return_best   = False,\n",
    "              n_jobs        = 'auto',\n",
    "              verbose       = False,\n",
    "              show_progress = True\n",
    "          )"
   ]
  },
  {
   "cell_type": "code",
   "execution_count": 50,
   "id": "b475dec4",
   "metadata": {},
   "outputs": [
    {
     "data": {
      "text/html": [
       "<div>\n",
       "<style scoped>\n",
       "    .dataframe tbody tr th:only-of-type {\n",
       "        vertical-align: middle;\n",
       "    }\n",
       "\n",
       "    .dataframe tbody tr th {\n",
       "        vertical-align: top;\n",
       "    }\n",
       "\n",
       "    .dataframe thead th {\n",
       "        text-align: right;\n",
       "    }\n",
       "</style>\n",
       "<table border=\"1\" class=\"dataframe\">\n",
       "  <thead>\n",
       "    <tr style=\"text-align: right;\">\n",
       "      <th></th>\n",
       "      <th>lags</th>\n",
       "      <th>lags_label</th>\n",
       "      <th>params</th>\n",
       "      <th>mean_squared_error</th>\n",
       "      <th>max_depth</th>\n",
       "      <th>n_estimators</th>\n",
       "      <th>reg_alpha</th>\n",
       "      <th>reg_lambda</th>\n",
       "    </tr>\n",
       "  </thead>\n",
       "  <tbody>\n",
       "    <tr>\n",
       "      <th>0</th>\n",
       "      <td>[1, 2]</td>\n",
       "      <td>[1, 2]</td>\n",
       "      <td>{'max_depth': 1, 'n_estimators': 50, 'reg_alph...</td>\n",
       "      <td>0.386195</td>\n",
       "      <td>1.0</td>\n",
       "      <td>50.0</td>\n",
       "      <td>0.1</td>\n",
       "      <td>1.0</td>\n",
       "    </tr>\n",
       "    <tr>\n",
       "      <th>1</th>\n",
       "      <td>[1, 2]</td>\n",
       "      <td>[1, 2]</td>\n",
       "      <td>{'max_depth': 15, 'n_estimators': 125, 'reg_al...</td>\n",
       "      <td>0.397114</td>\n",
       "      <td>15.0</td>\n",
       "      <td>125.0</td>\n",
       "      <td>0.1</td>\n",
       "      <td>0.1</td>\n",
       "    </tr>\n",
       "    <tr>\n",
       "      <th>2</th>\n",
       "      <td>[1, 2]</td>\n",
       "      <td>[1, 2]</td>\n",
       "      <td>{'max_depth': 15, 'n_estimators': 100, 'reg_al...</td>\n",
       "      <td>0.397114</td>\n",
       "      <td>15.0</td>\n",
       "      <td>100.0</td>\n",
       "      <td>0.1</td>\n",
       "      <td>0.1</td>\n",
       "    </tr>\n",
       "    <tr>\n",
       "      <th>3</th>\n",
       "      <td>[1, 2]</td>\n",
       "      <td>[1, 2]</td>\n",
       "      <td>{'max_depth': 10, 'n_estimators': 100, 'reg_al...</td>\n",
       "      <td>0.397114</td>\n",
       "      <td>10.0</td>\n",
       "      <td>100.0</td>\n",
       "      <td>0.1</td>\n",
       "      <td>0.1</td>\n",
       "    </tr>\n",
       "    <tr>\n",
       "      <th>4</th>\n",
       "      <td>[1, 2]</td>\n",
       "      <td>[1, 2]</td>\n",
       "      <td>{'max_depth': 10, 'n_estimators': 125, 'reg_al...</td>\n",
       "      <td>0.397114</td>\n",
       "      <td>10.0</td>\n",
       "      <td>125.0</td>\n",
       "      <td>0.1</td>\n",
       "      <td>0.1</td>\n",
       "    </tr>\n",
       "    <tr>\n",
       "      <th>...</th>\n",
       "      <td>...</td>\n",
       "      <td>...</td>\n",
       "      <td>...</td>\n",
       "      <td>...</td>\n",
       "      <td>...</td>\n",
       "      <td>...</td>\n",
       "      <td>...</td>\n",
       "      <td>...</td>\n",
       "    </tr>\n",
       "    <tr>\n",
       "      <th>1115</th>\n",
       "      <td>[1, 2, 3, 4, 5, 6, 7, 8, 9, 10]</td>\n",
       "      <td>[1, 2, 3, 4, 5, 6, 7, 8, 9, 10]</td>\n",
       "      <td>{'max_depth': 15, 'n_estimators': 10, 'reg_alp...</td>\n",
       "      <td>3.432761</td>\n",
       "      <td>15.0</td>\n",
       "      <td>10.0</td>\n",
       "      <td>0.1</td>\n",
       "      <td>0.1</td>\n",
       "    </tr>\n",
       "    <tr>\n",
       "      <th>1116</th>\n",
       "      <td>[1, 2, 3, 4, 5, 6, 7, 8, 9, 10]</td>\n",
       "      <td>[1, 2, 3, 4, 5, 6, 7, 8, 9, 10]</td>\n",
       "      <td>{'max_depth': 5, 'n_estimators': 10, 'reg_alph...</td>\n",
       "      <td>3.432761</td>\n",
       "      <td>5.0</td>\n",
       "      <td>10.0</td>\n",
       "      <td>0.1</td>\n",
       "      <td>0.1</td>\n",
       "    </tr>\n",
       "    <tr>\n",
       "      <th>1117</th>\n",
       "      <td>[1, 2, 3, 4, 5, 6, 7, 8, 9, 10]</td>\n",
       "      <td>[1, 2, 3, 4, 5, 6, 7, 8, 9, 10]</td>\n",
       "      <td>{'max_depth': 15, 'n_estimators': 20, 'reg_alp...</td>\n",
       "      <td>3.442104</td>\n",
       "      <td>15.0</td>\n",
       "      <td>20.0</td>\n",
       "      <td>0.1</td>\n",
       "      <td>0.1</td>\n",
       "    </tr>\n",
       "    <tr>\n",
       "      <th>1118</th>\n",
       "      <td>[1, 2, 3, 4, 5, 6, 7, 8, 9, 10]</td>\n",
       "      <td>[1, 2, 3, 4, 5, 6, 7, 8, 9, 10]</td>\n",
       "      <td>{'max_depth': 5, 'n_estimators': 20, 'reg_alph...</td>\n",
       "      <td>3.442104</td>\n",
       "      <td>5.0</td>\n",
       "      <td>20.0</td>\n",
       "      <td>0.1</td>\n",
       "      <td>0.1</td>\n",
       "    </tr>\n",
       "    <tr>\n",
       "      <th>1119</th>\n",
       "      <td>[1, 2, 3, 4, 5, 6, 7, 8, 9, 10]</td>\n",
       "      <td>[1, 2, 3, 4, 5, 6, 7, 8, 9, 10]</td>\n",
       "      <td>{'max_depth': 10, 'n_estimators': 20, 'reg_alp...</td>\n",
       "      <td>3.442104</td>\n",
       "      <td>10.0</td>\n",
       "      <td>20.0</td>\n",
       "      <td>0.1</td>\n",
       "      <td>0.1</td>\n",
       "    </tr>\n",
       "  </tbody>\n",
       "</table>\n",
       "<p>1120 rows × 8 columns</p>\n",
       "</div>"
      ],
      "text/plain": [
       "                                 lags                       lags_label  \\\n",
       "0                              [1, 2]                           [1, 2]   \n",
       "1                              [1, 2]                           [1, 2]   \n",
       "2                              [1, 2]                           [1, 2]   \n",
       "3                              [1, 2]                           [1, 2]   \n",
       "4                              [1, 2]                           [1, 2]   \n",
       "...                               ...                              ...   \n",
       "1115  [1, 2, 3, 4, 5, 6, 7, 8, 9, 10]  [1, 2, 3, 4, 5, 6, 7, 8, 9, 10]   \n",
       "1116  [1, 2, 3, 4, 5, 6, 7, 8, 9, 10]  [1, 2, 3, 4, 5, 6, 7, 8, 9, 10]   \n",
       "1117  [1, 2, 3, 4, 5, 6, 7, 8, 9, 10]  [1, 2, 3, 4, 5, 6, 7, 8, 9, 10]   \n",
       "1118  [1, 2, 3, 4, 5, 6, 7, 8, 9, 10]  [1, 2, 3, 4, 5, 6, 7, 8, 9, 10]   \n",
       "1119  [1, 2, 3, 4, 5, 6, 7, 8, 9, 10]  [1, 2, 3, 4, 5, 6, 7, 8, 9, 10]   \n",
       "\n",
       "                                                 params  mean_squared_error  \\\n",
       "0     {'max_depth': 1, 'n_estimators': 50, 'reg_alph...            0.386195   \n",
       "1     {'max_depth': 15, 'n_estimators': 125, 'reg_al...            0.397114   \n",
       "2     {'max_depth': 15, 'n_estimators': 100, 'reg_al...            0.397114   \n",
       "3     {'max_depth': 10, 'n_estimators': 100, 'reg_al...            0.397114   \n",
       "4     {'max_depth': 10, 'n_estimators': 125, 'reg_al...            0.397114   \n",
       "...                                                 ...                 ...   \n",
       "1115  {'max_depth': 15, 'n_estimators': 10, 'reg_alp...            3.432761   \n",
       "1116  {'max_depth': 5, 'n_estimators': 10, 'reg_alph...            3.432761   \n",
       "1117  {'max_depth': 15, 'n_estimators': 20, 'reg_alp...            3.442104   \n",
       "1118  {'max_depth': 5, 'n_estimators': 20, 'reg_alph...            3.442104   \n",
       "1119  {'max_depth': 10, 'n_estimators': 20, 'reg_alp...            3.442104   \n",
       "\n",
       "      max_depth  n_estimators  reg_alpha  reg_lambda  \n",
       "0           1.0          50.0        0.1         1.0  \n",
       "1          15.0         125.0        0.1         0.1  \n",
       "2          15.0         100.0        0.1         0.1  \n",
       "3          10.0         100.0        0.1         0.1  \n",
       "4          10.0         125.0        0.1         0.1  \n",
       "...         ...           ...        ...         ...  \n",
       "1115       15.0          10.0        0.1         0.1  \n",
       "1116        5.0          10.0        0.1         0.1  \n",
       "1117       15.0          20.0        0.1         0.1  \n",
       "1118        5.0          20.0        0.1         0.1  \n",
       "1119       10.0          20.0        0.1         0.1  \n",
       "\n",
       "[1120 rows x 8 columns]"
      ]
     },
     "execution_count": 50,
     "metadata": {},
     "output_type": "execute_result"
    }
   ],
   "source": [
    "results"
   ]
  },
  {
   "cell_type": "markdown",
   "id": "0fd62e8b",
   "metadata": {},
   "source": [
    "### FinalModel (ActualTemp)"
   ]
  },
  {
   "cell_type": "code",
   "execution_count": 51,
   "id": "a7c5fe2b",
   "metadata": {},
   "outputs": [],
   "source": [
    "y_train,y_test,x_train,x_test = train_test(daily_weather_min,\"min\")\n",
    "\n",
    "forecaster = ForecasterRecursive(\n",
    "    regressor= xg.XGBRegressor(max_depth=1,n_estimators=50,reg_alpha=0.1,reg_lambda=1.0),\n",
    "    lags=2,\n",
    ")\n",
    "\n",
    "forecaster.fit(\n",
    "    y = y_train,\n",
    "    exog = x_train\n",
    ")\n",
    "\n",
    "predictions = forecaster.predict(\n",
    "    steps=5,\n",
    "    exog = x_test\n",
    ")"
   ]
  },
  {
   "cell_type": "code",
   "execution_count": 52,
   "id": "bf09d43d",
   "metadata": {},
   "outputs": [
    {
     "data": {
      "text/plain": [
       "array([[19.72062793],\n",
       "       [21.11897831],\n",
       "       [19.02145274],\n",
       "       [19.02145274],\n",
       "       [20.41980312]])"
      ]
     },
     "execution_count": 52,
     "metadata": {},
     "output_type": "execute_result"
    }
   ],
   "source": [
    "scaler_actualtemp.inverse_transform(y_test.values.reshape(-1,1))"
   ]
  },
  {
   "cell_type": "code",
   "execution_count": 53,
   "id": "090fa524",
   "metadata": {},
   "outputs": [
    {
     "data": {
      "text/plain": [
       "array([[17.77374963],\n",
       "       [16.1917254 ],\n",
       "       [15.09223522],\n",
       "       [16.67425736],\n",
       "       [16.67425736]])"
      ]
     },
     "execution_count": 53,
     "metadata": {},
     "output_type": "execute_result"
    }
   ],
   "source": [
    "scaler_actualtemp.inverse_transform(predictions.values.reshape(-1,1))"
   ]
  }
 ],
 "metadata": {
  "kernelspec": {
   "display_name": ".venv",
   "language": "python",
   "name": "python3"
  },
  "language_info": {
   "codemirror_mode": {
    "name": "ipython",
    "version": 3
   },
   "file_extension": ".py",
   "mimetype": "text/x-python",
   "name": "python",
   "nbconvert_exporter": "python",
   "pygments_lexer": "ipython3",
   "version": "3.9.18"
  }
 },
 "nbformat": 4,
 "nbformat_minor": 5
}
